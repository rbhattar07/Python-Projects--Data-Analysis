{
  "nbformat": 4,
  "nbformat_minor": 0,
  "metadata": {
    "colab": {
      "name": "While Loops project",
      "provenance": [],
      "authorship_tag": "ABX9TyNtghMXqlSdqhNE9nk4PP/l",
      "include_colab_link": true
    },
    "kernelspec": {
      "name": "python3",
      "display_name": "Python 3"
    },
    "language_info": {
      "name": "python"
    }
  },
  "cells": [
    {
      "cell_type": "markdown",
      "metadata": {
        "id": "view-in-github",
        "colab_type": "text"
      },
      "source": [
        "<a href=\"https://colab.research.google.com/github/rbhattar07/Python-Projects--Data-Analysis/blob/main/While_Loops_project.ipynb\" target=\"_parent\"><img src=\"https://colab.research.google.com/assets/colab-badge.svg\" alt=\"Open In Colab\"/></a>"
      ]
    },
    {
      "cell_type": "code",
      "execution_count": 1,
      "metadata": {
        "colab": {
          "base_uri": "https://localhost:8080/"
        },
        "id": "ioMxPUl5bEBr",
        "outputId": "d753d227-7f87-4d84-a14e-3044882b4743"
      },
      "outputs": [
        {
          "output_type": "stream",
          "name": "stdout",
          "text": [
            "Drive already mounted at /content/gdrive; to attempt to forcibly remount, call drive.mount(\"/content/gdrive\", force_remount=True).\n"
          ]
        }
      ],
      "source": [
        "from google.colab import drive\n",
        "drive.mount('/content/gdrive')"
      ]
    },
    {
      "cell_type": "code",
      "source": [
        "# Diamond\n",
        "\n",
        "i = '*'\n",
        "x = '          '\n",
        "y = '*'\n",
        "\n",
        "while len(i) <= 10:\n",
        "  print(x,i,y)\n",
        "  i += '*'\n",
        "  x = x[:-1]\n",
        "  y += '*'\n",
        "\n",
        "while len(i) >= 1:\n",
        "  print(x,i,y)\n",
        "  i = i[:-1]\n",
        "  x += ' '\n",
        "  y = y[:-1]"
      ],
      "metadata": {
        "colab": {
          "base_uri": "https://localhost:8080/"
        },
        "id": "rl9q2YzSbVxg",
        "outputId": "92656537-256e-472b-dbd0-bb3239c0a425"
      },
      "execution_count": 2,
      "outputs": [
        {
          "output_type": "stream",
          "name": "stdout",
          "text": [
            "           * *\n",
            "          ** **\n",
            "         *** ***\n",
            "        **** ****\n",
            "       ***** *****\n",
            "      ****** ******\n",
            "     ******* *******\n",
            "    ******** ********\n",
            "   ********* *********\n",
            "  ********** **********\n",
            " *********** ***********\n",
            "  ********** **********\n",
            "   ********* *********\n",
            "    ******** ********\n",
            "     ******* *******\n",
            "      ****** ******\n",
            "       ***** *****\n",
            "        **** ****\n",
            "         *** ***\n",
            "          ** **\n",
            "           * *\n"
          ]
        }
      ]
    },
    {
      "cell_type": "code",
      "source": [
        "# Tree\n",
        "\n",
        "i = '*'\n",
        "x = '          '\n",
        "y = '*'\n",
        "z = '*****'\n",
        "a = '         '\n",
        "while len(i) <= 10:\n",
        "  print(x,i,y)\n",
        "  i += '*'\n",
        "  x = x[:-1]\n",
        "  y += '*'\n",
        "\n",
        "while len(i) >= 1:\n",
        "  print(a,z)\n",
        "  i = i[:-1]"
      ],
      "metadata": {
        "colab": {
          "base_uri": "https://localhost:8080/"
        },
        "id": "J7eZ1lhccw5n",
        "outputId": "8d4ddefd-0d0f-4bf6-9654-84a7b3d87448"
      },
      "execution_count": 3,
      "outputs": [
        {
          "output_type": "stream",
          "name": "stdout",
          "text": [
            "           * *\n",
            "          ** **\n",
            "         *** ***\n",
            "        **** ****\n",
            "       ***** *****\n",
            "      ****** ******\n",
            "     ******* *******\n",
            "    ******** ********\n",
            "   ********* *********\n",
            "  ********** **********\n",
            "          *****\n",
            "          *****\n",
            "          *****\n",
            "          *****\n",
            "          *****\n",
            "          *****\n",
            "          *****\n",
            "          *****\n",
            "          *****\n",
            "          *****\n",
            "          *****\n"
          ]
        }
      ]
    },
    {
      "cell_type": "code",
      "source": [
        "# Number patterns\n",
        "\n",
        "number = int(input('Enter number of rows : '))\n",
        " \n",
        "x = 1\n",
        "i = 1\n",
        "while i <= number :\n",
        "    j = 1\n",
        "    while j <= i:\n",
        "        print(\"{:3d}\".format(x), end = \" \")\n",
        "        j += 1\n",
        "        x += 1\n",
        "    print()\n",
        "    i += 1"
      ],
      "metadata": {
        "colab": {
          "base_uri": "https://localhost:8080/"
        },
        "id": "OctZ9D0ki4i6",
        "outputId": "3e1e0a16-37d8-434d-ebd4-b0914abbb564"
      },
      "execution_count": 5,
      "outputs": [
        {
          "output_type": "stream",
          "name": "stdout",
          "text": [
            "Enter number of rows : 10\n",
            "  1 \n",
            "  2   3 \n",
            "  4   5   6 \n",
            "  7   8   9  10 \n",
            " 11  12  13  14  15 \n",
            " 16  17  18  19  20  21 \n",
            " 22  23  24  25  26  27  28 \n",
            " 29  30  31  32  33  34  35  36 \n",
            " 37  38  39  40  41  42  43  44  45 \n",
            " 46  47  48  49  50  51  52  53  54  55 \n"
          ]
        }
      ]
    },
    {
      "cell_type": "code",
      "source": [
        ""
      ],
      "metadata": {
        "id": "VGsUkhkojVcx"
      },
      "execution_count": 5,
      "outputs": []
    }
  ]
}
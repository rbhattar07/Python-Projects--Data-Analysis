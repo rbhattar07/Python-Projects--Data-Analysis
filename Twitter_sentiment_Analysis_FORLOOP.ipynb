{
  "nbformat": 4,
  "nbformat_minor": 0,
  "metadata": {
    "colab": {
      "name": "Twitter sentiment Analysis_FORLOOP",
      "provenance": [],
      "mount_file_id": "1q5_BHzd-zl5-LqrqQtyTM0LQw2jbCiF5",
      "authorship_tag": "ABX9TyMsReQEQn96kn2KVHC67yud",
      "include_colab_link": true
    },
    "kernelspec": {
      "name": "python3",
      "display_name": "Python 3"
    },
    "language_info": {
      "name": "python"
    }
  },
  "cells": [
    {
      "cell_type": "markdown",
      "metadata": {
        "id": "view-in-github",
        "colab_type": "text"
      },
      "source": [
        "<a href=\"https://colab.research.google.com/github/rbhattar07/Python-Projects--Data-Analysis/blob/main/Twitter_sentiment_Analysis_FORLOOP.ipynb\" target=\"_parent\"><img src=\"https://colab.research.google.com/assets/colab-badge.svg\" alt=\"Open In Colab\"/></a>"
      ]
    },
    {
      "cell_type": "markdown",
      "source": [
        "# Initial necessities\n",
        "# We won't be using NLTK\n",
        "- Mounting with Google drive\n",
        "- Installing kaggle and uploading API token"
      ],
      "metadata": {
        "id": "TnaRzXoF13ma"
      }
    },
    {
      "cell_type": "code",
      "source": [
        "from google.colab import drive\n",
        "drive.mount('/content/gdrive')"
      ],
      "metadata": {
        "id": "Ki6pYuaI1zu-",
        "colab": {
          "base_uri": "https://localhost:8080/"
        },
        "outputId": "865ad1f9-d8f5-42a8-bff9-131a839b0452"
      },
      "execution_count": 1,
      "outputs": [
        {
          "output_type": "stream",
          "name": "stdout",
          "text": [
            "Mounted at /content/gdrive\n"
          ]
        }
      ]
    },
    {
      "cell_type": "code",
      "execution_count": 2,
      "metadata": {
        "colab": {
          "resources": {
            "http://localhost:8080/nbextensions/google.colab/files.js": {
              "data": "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",
              "ok": true,
              "headers": [
                [
                  "content-type",
                  "application/javascript"
                ]
              ],
              "status": 200,
              "status_text": ""
            }
          },
          "base_uri": "https://localhost:8080/",
          "height": 90
        },
        "id": "QfUgMAUfw3Tv",
        "outputId": "9b4d7c84-5ccb-4ff8-c397-d4b96831150e"
      },
      "outputs": [
        {
          "output_type": "display_data",
          "data": {
            "text/plain": [
              "<IPython.core.display.HTML object>"
            ],
            "text/html": [
              "\n",
              "     <input type=\"file\" id=\"files-2b1f0a42-6a6a-4833-b3c5-50542c8c6e1f\" name=\"files[]\" multiple disabled\n",
              "        style=\"border:none\" />\n",
              "     <output id=\"result-2b1f0a42-6a6a-4833-b3c5-50542c8c6e1f\">\n",
              "      Upload widget is only available when the cell has been executed in the\n",
              "      current browser session. Please rerun this cell to enable.\n",
              "      </output>\n",
              "      <script src=\"/nbextensions/google.colab/files.js\"></script> "
            ]
          },
          "metadata": {}
        },
        {
          "output_type": "stream",
          "name": "stdout",
          "text": [
            "Saving kaggle.json to kaggle.json\n"
          ]
        },
        {
          "output_type": "execute_result",
          "data": {
            "text/plain": [
              "{'kaggle.json': b'{\"username\":\"riddhbhattar\",\"key\":\"05af002369fff0d5273085388121e8be\"}'}"
            ]
          },
          "metadata": {},
          "execution_count": 2
        }
      ],
      "source": [
        "from google.colab import files\n",
        "\n",
        "files.upload() "
      ]
    },
    {
      "cell_type": "code",
      "source": [
        "!ls -lha kaggle.json\n",
        "# To make sure the API kaggle file has been uploaded"
      ],
      "metadata": {
        "colab": {
          "base_uri": "https://localhost:8080/"
        },
        "id": "_RzymrT-2Zw1",
        "outputId": "bbc2df40-858e-4f12-cf87-d5aa1fd978ba"
      },
      "execution_count": 3,
      "outputs": [
        {
          "output_type": "stream",
          "name": "stdout",
          "text": [
            "-rw-r--r-- 1 root root 68 Apr 11 08:51 kaggle.json\n"
          ]
        }
      ]
    },
    {
      "cell_type": "code",
      "source": [
        "!pip install -q kaggle\n",
        "# Installing kaggle API client"
      ],
      "metadata": {
        "id": "TRXNtEwH2iDR"
      },
      "execution_count": 4,
      "outputs": []
    },
    {
      "cell_type": "code",
      "source": [
        "!mkdir -p ~/.kaggle\n",
        "!cp kaggle.json ~/.kaggle/"
      ],
      "metadata": {
        "id": "d-XuJP0v2nrx"
      },
      "execution_count": 5,
      "outputs": []
    },
    {
      "cell_type": "code",
      "source": [
        "!chmod 600 /root/.kaggle/kaggle.json\n",
        "# Giving the necessary permisions"
      ],
      "metadata": {
        "id": "jqDk-8IF2t0H"
      },
      "execution_count": 6,
      "outputs": []
    },
    {
      "cell_type": "code",
      "source": [
        "!pwd"
      ],
      "metadata": {
        "colab": {
          "base_uri": "https://localhost:8080/"
        },
        "id": "ZDx1l8-u2yTI",
        "outputId": "70502066-851a-468f-89a4-d7a4ce65cbd3"
      },
      "execution_count": 7,
      "outputs": [
        {
          "output_type": "stream",
          "name": "stdout",
          "text": [
            "/content\n"
          ]
        }
      ]
    },
    {
      "cell_type": "code",
      "source": [
        "!kaggle datasets list"
      ],
      "metadata": {
        "colab": {
          "base_uri": "https://localhost:8080/"
        },
        "id": "aNz2Ggsa20Or",
        "outputId": "b86c10f7-0e6d-4e41-95b5-3e0d1e114675"
      },
      "execution_count": 8,
      "outputs": [
        {
          "output_type": "stream",
          "name": "stdout",
          "text": [
            "ref                                                            title                                             size  lastUpdated          downloadCount  voteCount  usabilityRating  \n",
            "-------------------------------------------------------------  -----------------------------------------------  -----  -------------------  -------------  ---------  ---------------  \n",
            "datasets/piterfm/2022-ukraine-russian-war                      2022 Ukraine Russia War                            2KB  2022-04-10 11:26:39           6952        401  1.0              \n",
            "datasets/kamilpytlak/personal-key-indicators-of-heart-disease  Personal Key Indicators of Heart Disease           3MB  2022-02-16 10:18:03          10863        238  1.0              \n",
            "datasets/ankanhore545/cost-of-living-index-2022                Cost of Living Index 2022                          4KB  2022-04-09 06:22:10           2365         36  0.8235294        \n",
            "datasets/prasertk/best-tv-shows-of-all-time                    Best TV shows of all time                        571KB  2022-04-05 04:06:09            576         25  1.0              \n",
            "datasets/prasertk/historical-commodity-prices-from-20002022    Major commodity prices from 2000-2022            399KB  2022-04-09 15:32:08            934         30  1.0              \n",
            "datasets/vivek468/superstore-dataset-final                     Superstore Dataset                               550KB  2022-02-17 11:33:07           7987        166  1.0              \n",
            "datasets/xhlulu/cpc-codes                                      Cooperative Patent Classification Codes Meaning    5MB  2022-03-22 03:04:36            444         73  1.0              \n",
            "datasets/amandam1/twitter-daily-stock-prices-20132022          Twitter Daily Stock Prices 2013-2022              39KB  2022-04-06 01:36:58            363         21  1.0              \n",
            "datasets/kuchhbhi/latest-laptop-price-list                     Laptop Specs and latest price                     18KB  2022-04-03 17:41:17           1170         37  1.0              \n",
            "datasets/prasertk/major-social-media-stock-prices-20122022     Major social media stock prices 2012-2022        175KB  2022-04-07 08:04:53            331         18  1.0              \n",
            "datasets/ivanchvez/causes-of-death-our-world-in-data           Causes of Death - Our World In Data                1MB  2022-03-29 18:35:21           1056         29  0.9705882        \n",
            "datasets/ashishjangra27/ted-talks                              TED Talks                                        298KB  2022-02-23 15:16:08           4153        179  1.0              \n",
            "datasets/disham993/9000-movies-dataset                         9000+ Movies Dataset                               2MB  2022-03-11 17:09:22           1163         22  1.0              \n",
            "datasets/kkhandekar/stolen-vehicle-dataset                     Stolen Vehicle Dataset                            46KB  2022-04-05 21:49:11            332         24  1.0              \n",
            "datasets/bhanuprasanna527/stock-market-prediction              IBM - Real Time Stock Analysis                     3MB  2022-03-26 10:07:31            729         27  0.9411765        \n",
            "datasets/prasertk/healthy-lifestyle-cities-report-2021         Healthy Lifestyle Cities Report 2021               2KB  2022-03-03 00:26:02           4276        114  1.0              \n",
            "datasets/vardhansiramdasu/fraudulent-transactions-prediction   Fraudulent Transactions Prediction               178MB  2022-03-21 16:08:45           1361         44  1.0              \n",
            "datasets/ajaypalsinghlo/world-happiness-report-2022            world happiness report 2022                        5KB  2022-03-21 13:41:15           1682         43  0.9705882        \n",
            "datasets/datahackers/state-of-data-2021                        State of Data Brazil 2021                        539KB  2022-03-31 18:48:28            164         66  0.9705882        \n",
            "datasets/equinxx/spotify-top-50-songs-in-2021                  Spotify top 50 songs in 2021                       4KB  2022-03-17 22:59:45           2378         62  1.0              \n"
          ]
        }
      ]
    },
    {
      "cell_type": "code",
      "source": [
        "!kaggle datasets download -d arkhoshghalb/twitter-sentiment-analysis-hatred-speech"
      ],
      "metadata": {
        "colab": {
          "base_uri": "https://localhost:8080/"
        },
        "id": "Eq5DoNU-227V",
        "outputId": "1c4d8a00-11b5-4b4a-8d53-57de575bf5ea"
      },
      "execution_count": 9,
      "outputs": [
        {
          "output_type": "stream",
          "name": "stdout",
          "text": [
            "Downloading twitter-sentiment-analysis-hatred-speech.zip to /content\n",
            "\r  0% 0.00/1.89M [00:00<?, ?B/s]\n",
            "\r100% 1.89M/1.89M [00:00<00:00, 163MB/s]\n"
          ]
        }
      ]
    },
    {
      "cell_type": "code",
      "source": [
        "!unzip /content/twitter-sentiment-analysis-hatred-speech.zip"
      ],
      "metadata": {
        "colab": {
          "base_uri": "https://localhost:8080/"
        },
        "id": "uQyP09OF2-78",
        "outputId": "ed6aa269-d01d-4993-d781-c482efdafbff"
      },
      "execution_count": 10,
      "outputs": [
        {
          "output_type": "stream",
          "name": "stdout",
          "text": [
            "Archive:  /content/twitter-sentiment-analysis-hatred-speech.zip\n",
            "  inflating: test.csv                \n",
            "  inflating: train.csv               \n"
          ]
        }
      ]
    },
    {
      "cell_type": "markdown",
      "source": [
        "- Two files have been found after we unzipped twitter-sentiment-analysis-hatred-speech.zip \n",
        " - test.csv\n",
        " - train.csv "
      ],
      "metadata": {
        "id": "wKzk2DOb3MHh"
      }
    },
    {
      "cell_type": "markdown",
      "source": [
        "#### Import required libraries"
      ],
      "metadata": {
        "id": "ntQ3_BkF3sSI"
      }
    },
    {
      "cell_type": "code",
      "source": [
        "import os\n",
        "import math\n",
        "import numpy as np\n",
        "import pandas as pd\n",
        "import matplotlib\n",
        "import matplotlib.pyplot as plt\n",
        "import seaborn as sns"
      ],
      "metadata": {
        "id": "vzAKXhcZ3DP0"
      },
      "execution_count": 11,
      "outputs": []
    },
    {
      "cell_type": "markdown",
      "source": [
        "# Data\n",
        "- Download the CSV data using pandas.\n",
        "- Understand the datafile and explore it.\n",
        "- What is your objective?\n",
        "- What kind of analysis are you planning to perform? "
      ],
      "metadata": {
        "id": "DdCNdTJb4XgF"
      }
    },
    {
      "cell_type": "code",
      "source": [
        "# Download the CSV data using pandas.\n",
        "df = pd.read_csv('/content/test.csv')\n",
        "df.info()\n",
        "\n",
        "# About the datafile:\n",
        "# There are 17197 rows and the entries are staring from 0.\n",
        "# There are two columns ID and Tweet\n",
        "# There are non null or N/A values in the data\n",
        "# The datatypes that we will be dealing with are int64 and object(1) "
      ],
      "metadata": {
        "id": "7DwzboNd4OzV",
        "colab": {
          "base_uri": "https://localhost:8080/"
        },
        "outputId": "934bccd7-b059-4c83-f5a3-0e7487093e5c"
      },
      "execution_count": 12,
      "outputs": [
        {
          "output_type": "stream",
          "name": "stdout",
          "text": [
            "<class 'pandas.core.frame.DataFrame'>\n",
            "RangeIndex: 17197 entries, 0 to 17196\n",
            "Data columns (total 2 columns):\n",
            " #   Column  Non-Null Count  Dtype \n",
            "---  ------  --------------  ----- \n",
            " 0   id      17197 non-null  int64 \n",
            " 1   tweet   17197 non-null  object\n",
            "dtypes: int64(1), object(1)\n",
            "memory usage: 268.8+ KB\n"
          ]
        }
      ]
    },
    {
      "cell_type": "markdown",
      "source": [
        "### Objective:\n",
        "\n",
        "The main objective is to portray how the use of FOR LOOP can help us differentiate positive and negative tweets.\n",
        "\n",
        "We will be focusing on quantitative and sentimental analysis.\n",
        "\n",
        "# Acknowledgements\n",
        "Dataset is provided by Analytics Vidhya"
      ],
      "metadata": {
        "id": "2oZ2synu51Bv"
      }
    },
    {
      "cell_type": "code",
      "source": [
        "df"
      ],
      "metadata": {
        "id": "cuRqfZ6t5Ic1",
        "colab": {
          "base_uri": "https://localhost:8080/",
          "height": 423
        },
        "outputId": "8110d9b5-3265-4b14-b971-2609e3ef624b"
      },
      "execution_count": 13,
      "outputs": [
        {
          "output_type": "execute_result",
          "data": {
            "text/plain": [
              "          id                                              tweet\n",
              "0      31963  #studiolife #aislife #requires #passion #dedic...\n",
              "1      31964   @user #white #supremacists want everyone to s...\n",
              "2      31965  safe ways to heal your #acne!!    #altwaystohe...\n",
              "3      31966  is the hp and the cursed child book up for res...\n",
              "4      31967    3rd #bihday to my amazing, hilarious #nephew...\n",
              "...      ...                                                ...\n",
              "17192  49155  thought factory: left-right polarisation! #tru...\n",
              "17193  49156  feeling like a mermaid ð #hairflip #neverre...\n",
              "17194  49157  #hillary #campaigned today in #ohio((omg)) &am...\n",
              "17195  49158  happy, at work conference: right mindset leads...\n",
              "17196  49159  my   song \"so glad\" free download!  #shoegaze ...\n",
              "\n",
              "[17197 rows x 2 columns]"
            ],
            "text/html": [
              "\n",
              "  <div id=\"df-a20d3b5e-59fd-41bf-bb3b-3fbb8933b80a\">\n",
              "    <div class=\"colab-df-container\">\n",
              "      <div>\n",
              "<style scoped>\n",
              "    .dataframe tbody tr th:only-of-type {\n",
              "        vertical-align: middle;\n",
              "    }\n",
              "\n",
              "    .dataframe tbody tr th {\n",
              "        vertical-align: top;\n",
              "    }\n",
              "\n",
              "    .dataframe thead th {\n",
              "        text-align: right;\n",
              "    }\n",
              "</style>\n",
              "<table border=\"1\" class=\"dataframe\">\n",
              "  <thead>\n",
              "    <tr style=\"text-align: right;\">\n",
              "      <th></th>\n",
              "      <th>id</th>\n",
              "      <th>tweet</th>\n",
              "    </tr>\n",
              "  </thead>\n",
              "  <tbody>\n",
              "    <tr>\n",
              "      <th>0</th>\n",
              "      <td>31963</td>\n",
              "      <td>#studiolife #aislife #requires #passion #dedic...</td>\n",
              "    </tr>\n",
              "    <tr>\n",
              "      <th>1</th>\n",
              "      <td>31964</td>\n",
              "      <td>@user #white #supremacists want everyone to s...</td>\n",
              "    </tr>\n",
              "    <tr>\n",
              "      <th>2</th>\n",
              "      <td>31965</td>\n",
              "      <td>safe ways to heal your #acne!!    #altwaystohe...</td>\n",
              "    </tr>\n",
              "    <tr>\n",
              "      <th>3</th>\n",
              "      <td>31966</td>\n",
              "      <td>is the hp and the cursed child book up for res...</td>\n",
              "    </tr>\n",
              "    <tr>\n",
              "      <th>4</th>\n",
              "      <td>31967</td>\n",
              "      <td>3rd #bihday to my amazing, hilarious #nephew...</td>\n",
              "    </tr>\n",
              "    <tr>\n",
              "      <th>...</th>\n",
              "      <td>...</td>\n",
              "      <td>...</td>\n",
              "    </tr>\n",
              "    <tr>\n",
              "      <th>17192</th>\n",
              "      <td>49155</td>\n",
              "      <td>thought factory: left-right polarisation! #tru...</td>\n",
              "    </tr>\n",
              "    <tr>\n",
              "      <th>17193</th>\n",
              "      <td>49156</td>\n",
              "      <td>feeling like a mermaid ð #hairflip #neverre...</td>\n",
              "    </tr>\n",
              "    <tr>\n",
              "      <th>17194</th>\n",
              "      <td>49157</td>\n",
              "      <td>#hillary #campaigned today in #ohio((omg)) &amp;am...</td>\n",
              "    </tr>\n",
              "    <tr>\n",
              "      <th>17195</th>\n",
              "      <td>49158</td>\n",
              "      <td>happy, at work conference: right mindset leads...</td>\n",
              "    </tr>\n",
              "    <tr>\n",
              "      <th>17196</th>\n",
              "      <td>49159</td>\n",
              "      <td>my   song \"so glad\" free download!  #shoegaze ...</td>\n",
              "    </tr>\n",
              "  </tbody>\n",
              "</table>\n",
              "<p>17197 rows × 2 columns</p>\n",
              "</div>\n",
              "      <button class=\"colab-df-convert\" onclick=\"convertToInteractive('df-a20d3b5e-59fd-41bf-bb3b-3fbb8933b80a')\"\n",
              "              title=\"Convert this dataframe to an interactive table.\"\n",
              "              style=\"display:none;\">\n",
              "        \n",
              "  <svg xmlns=\"http://www.w3.org/2000/svg\" height=\"24px\"viewBox=\"0 0 24 24\"\n",
              "       width=\"24px\">\n",
              "    <path d=\"M0 0h24v24H0V0z\" fill=\"none\"/>\n",
              "    <path d=\"M18.56 5.44l.94 2.06.94-2.06 2.06-.94-2.06-.94-.94-2.06-.94 2.06-2.06.94zm-11 1L8.5 8.5l.94-2.06 2.06-.94-2.06-.94L8.5 2.5l-.94 2.06-2.06.94zm10 10l.94 2.06.94-2.06 2.06-.94-2.06-.94-.94-2.06-.94 2.06-2.06.94z\"/><path d=\"M17.41 7.96l-1.37-1.37c-.4-.4-.92-.59-1.43-.59-.52 0-1.04.2-1.43.59L10.3 9.45l-7.72 7.72c-.78.78-.78 2.05 0 2.83L4 21.41c.39.39.9.59 1.41.59.51 0 1.02-.2 1.41-.59l7.78-7.78 2.81-2.81c.8-.78.8-2.07 0-2.86zM5.41 20L4 18.59l7.72-7.72 1.47 1.35L5.41 20z\"/>\n",
              "  </svg>\n",
              "      </button>\n",
              "      \n",
              "  <style>\n",
              "    .colab-df-container {\n",
              "      display:flex;\n",
              "      flex-wrap:wrap;\n",
              "      gap: 12px;\n",
              "    }\n",
              "\n",
              "    .colab-df-convert {\n",
              "      background-color: #E8F0FE;\n",
              "      border: none;\n",
              "      border-radius: 50%;\n",
              "      cursor: pointer;\n",
              "      display: none;\n",
              "      fill: #1967D2;\n",
              "      height: 32px;\n",
              "      padding: 0 0 0 0;\n",
              "      width: 32px;\n",
              "    }\n",
              "\n",
              "    .colab-df-convert:hover {\n",
              "      background-color: #E2EBFA;\n",
              "      box-shadow: 0px 1px 2px rgba(60, 64, 67, 0.3), 0px 1px 3px 1px rgba(60, 64, 67, 0.15);\n",
              "      fill: #174EA6;\n",
              "    }\n",
              "\n",
              "    [theme=dark] .colab-df-convert {\n",
              "      background-color: #3B4455;\n",
              "      fill: #D2E3FC;\n",
              "    }\n",
              "\n",
              "    [theme=dark] .colab-df-convert:hover {\n",
              "      background-color: #434B5C;\n",
              "      box-shadow: 0px 1px 3px 1px rgba(0, 0, 0, 0.15);\n",
              "      filter: drop-shadow(0px 1px 2px rgba(0, 0, 0, 0.3));\n",
              "      fill: #FFFFFF;\n",
              "    }\n",
              "  </style>\n",
              "\n",
              "      <script>\n",
              "        const buttonEl =\n",
              "          document.querySelector('#df-a20d3b5e-59fd-41bf-bb3b-3fbb8933b80a button.colab-df-convert');\n",
              "        buttonEl.style.display =\n",
              "          google.colab.kernel.accessAllowed ? 'block' : 'none';\n",
              "\n",
              "        async function convertToInteractive(key) {\n",
              "          const element = document.querySelector('#df-a20d3b5e-59fd-41bf-bb3b-3fbb8933b80a');\n",
              "          const dataTable =\n",
              "            await google.colab.kernel.invokeFunction('convertToInteractive',\n",
              "                                                     [key], {});\n",
              "          if (!dataTable) return;\n",
              "\n",
              "          const docLinkHtml = 'Like what you see? Visit the ' +\n",
              "            '<a target=\"_blank\" href=https://colab.research.google.com/notebooks/data_table.ipynb>data table notebook</a>'\n",
              "            + ' to learn more about interactive tables.';\n",
              "          element.innerHTML = '';\n",
              "          dataTable['output_type'] = 'display_data';\n",
              "          await google.colab.output.renderOutput(dataTable, element);\n",
              "          const docLink = document.createElement('div');\n",
              "          docLink.innerHTML = docLinkHtml;\n",
              "          element.appendChild(docLink);\n",
              "        }\n",
              "      </script>\n",
              "    </div>\n",
              "  </div>\n",
              "  "
            ]
          },
          "metadata": {},
          "execution_count": 13
        }
      ]
    },
    {
      "cell_type": "code",
      "source": [
        "# Creating a basic list of negative words which I'll be updating from time to time\n",
        "positive_words = np.array(['baby','overjoyed','christmas',\n",
        "                        'halloween','festival','success','successfull', 'birthday',  'god bless you','god bless', 'good person','bliss', 'bless', 'blessing',\n",
        "                        'advantageous','congratulations', 'gift', 'thank god', 'congrats', 'good luck', 'blessings', 'blessed', 'over the moon', 'in seventh heaven',\n",
        "                        'favorable', 'opportune', 'opportunity','on top of the world', 'happy', 'ecstatic','joy', 'gratitude', 'pride', 'serenity', 'interest', 'amusement',\n",
        "                        'amusing', 'amused', 'interesting', 'interested', 'proud', 'hopefully', 'hope', 'hopefull', 'inspiration', 'inspire', 'aww', 'awe', 'awww', 'love',\n",
        "                        'content', 'cheer', 'cheerful', 'contented', 'good', 'amazing', 'wonderful', 'wow', 'excited', 'joy', 'joyful', 'overjoyed', 'delighted', 'smile',\n",
        "                        'smiling', 'beautiful', 'benefit', 'beneficial', 'auspicious', 'auspicion', 'luck', 'lucky', 'achieve', 'achievement', 'achieved', 'mermaid', 'glad', 'colorful', 'gain', 'dope'\n",
        "                        'sexy', 'beautifull', 'beautiful', 'pretty', 'flower', 'flowers', 'saved', 'wow', 'win', 'hurrah!', 'cute doggy', 'cute', 'pregnant', 'marry', 'married',\n",
        "                         'lit af', 'lit', 'positive', 'adventure', 'adventurous', 'amiable', 'goal', 'dreams', 'dream', 'dreaming', 'beloved', 'brotherly', 'calming', 'calm', 'charming', 'cherished',\n",
        "                         'darling', 'delicious', 'good', 'great', 'dreamy', 'fantastic', 'energising', 'fabulous', 'generous', 'gifted', 'glamor', 'glamorous', 'heavenly',\n",
        "                         'inspiring', 'inspiration', 'jolly', 'kind', 'kindly', 'perfect', 'pleasure', 'pleasuring', 'precious', 'pride', 'prestige', 'prestigious', 'quality', 'promising',\n",
        "                         'reward', 'rewards', 'revolution', 'saint', 'soothing', 'stunning', 'trustworthy', 'vibrant', 'colorful', 'useful', 'uplifting', 'adaptable', 'blessing', 'blessings',\n",
        "                         'cherish', 'cherished', 'comfotable', 'comforting', 'comfort', 'refreshing', 'energising', 'fancy', '#positivethinking', '#positivevibes', 'goodvibes'])\n",
        "\n",
        "\n",
        "\n",
        "# I'll be using for loop and run all the words of positive in the tweets that df contains and create a list for further analysis\n",
        "positive_tweets = []\n",
        "for tweet in df.tweet:\n",
        "  for x in positive_words:\n",
        "    if x in tweet:\n",
        "      positive_tweets.append(tweet)\n",
        "\n",
        "len(positive_tweets)\n",
        "\n",
        "# Converting positive_tweets list into pandas dataframe and deleting all the duplicates\n",
        "positive_tweets = pd.DataFrame(positive_tweets, columns = ['positive_tweets']).drop_duplicates()\n",
        "print(positive_tweets)\n",
        "print('The total number of positive tweets:', len(positive_tweets))"
      ],
      "metadata": {
        "id": "bYKBbxwn6R3Y",
        "colab": {
          "base_uri": "https://localhost:8080/"
        },
        "outputId": "b33dac1b-8fb2-4bd2-f77f-0f058e4c18d9"
      },
      "execution_count": 14,
      "outputs": [
        {
          "output_type": "stream",
          "name": "stdout",
          "text": [
            "                                         positive_tweets\n",
            "0        3rd #bihday to my amazing, hilarious #nephew...\n",
            "2      #finished#tattoo#inked#ink#loveitâ¤ï¸ #â¤ï¸...\n",
            "3      #delicious   #food #lovelife #capetown mannaep...\n",
            "5      one of the world's greatest spoing events   #l...\n",
            "6      good food, good life , #enjoy and   ððð...\n",
            "...                                                  ...\n",
            "12144  we love the pretty, happy and fresh you! #teen...\n",
            "12147  thought factory: left-right polarisation! #tru...\n",
            "12148  feeling like a mermaid ð #hairflip #neverre...\n",
            "12149  #hillary #campaigned today in #ohio((omg)) &am...\n",
            "12151  my   song \"so glad\" free download!  #shoegaze ...\n",
            "\n",
            "[6585 rows x 1 columns]\n",
            "The total number of positive tweets: 6585\n"
          ]
        }
      ]
    },
    {
      "cell_type": "code",
      "source": [
        "# Creating a basic list of negative words which I'll be updating from time to time\n",
        "negative_words = np.array(['loss', 'sorrow', 'sad', 'sadness', 'suffering', 'pain', 'depressed', 'depressing', 'stress',\n",
        "                      'therapy', 'disease', 'sick', 'death', 'accident', 'crime', 'criminal', 'heartbreak', 'heartbreaking', 'mourn', 'mourning', 'mournful',\n",
        "                      'melancholy', 'hearttrending',  'cast down', 'crestfallen', 'dejected', 'depressed', 'despondent', 'disconsolate', 'doleful', 'down',\n",
        "                      'downcast', 'downhearted', 'down in the mouth', 'droopy', 'forlorn', 'gloomy', 'glum', 'hangdog', 'heartbroken', 'heartsick', 'heartsore',\n",
        "                      'heavyhearted', 'inconsolable', 'joyless', 'low', 'low-spirited', 'melancholic', 'melancholy', 'miserable', 'mournful', 'saddened', \n",
        "                      'sorrowful', 'sorry', 'unhappy','shatter', 'shattered', 'woebegone', 'woeful', 'wretched', 'loss', 'lost', 'lose', 'aggrieved', 'distressed', 'troubled', 'uneasy',\n",
        "                      'unquiet', 'upset', 'worried', 'despairing', 'hopeless', 'sunk', 'disappointed', 'discouraged', 'disheartened', 'dispirited', 'suicidal', 'dolorous',\n",
        "                      'lachrymose', 'lugubrious', 'plaintive', 'tearful', 'regretful', 'rueful', 'agonized', 'anguished', 'grieving', 'wailing', 'weeping', 'bleak',\n",
        "                      'cheerless', 'comfortless', 'dark', 'darkening', 'depressing', 'desolate', 'dismal', 'drear', 'dreary', 'elegiac','elegiacal', 'funereal', 'morbid', \n",
        "                      'morose', 'murky', 'saturnine', 'somber','sombre', 'sullen', 'death', 'died', 'dead', 'passed away', 'heart attack', 'racist', 'fear', 'Fear', 'Scared', 'scared', 'fright', 'frightened', 'frightening', 'scary', 'dread', 'fearfulness', 'horron', 'phobia', 'creeps',\n",
        "                       'creepy', 'anxiety', 'anxious', 'disturbing',  'trauma', 'panic', 'aghast', 'alarmed', 'terror', 'terrorist', 'terrorized', 'terrorist', 'terrorists',\n",
        "                       'rape', 'raped', 'gangrape', 'murder', 'murderer', 'killing', 'affrighted', 'alarmed', 'horrified', 'killings', 'fearsome', 'destruction', 'covid', 'corona virus', 'disgust', 'disgusting', 'disgusted', 'abhorrence', 'abomination', 'antipathy', 'execration', \n",
        "                          'hate', 'hatred', 'allergy', 'averseness', 'disapproval', 'disfavor', 'disinclination', 'dislike',\n",
        "                          'disliking', 'displeasure', 'puke', 'vomit', 'shit', 'crap', 'anger', 'angry', 'rage', 'raging','angriness', 'birse', 'choler', 'furor', 'fury', 'indignation', 'irateness', 'ire', 'lividity', 'lividness', 'mad', 'madness', 'mood', 'outrage', 'spleen', 'wrath', 'wrathfulness',\n",
        "                        'slow burn', 'aggravation', 'annoyance', 'exasperation', 'irritation', 'vexation', 'acrimoniousness', 'acrimony', 'animosity', 'antagonism', 'antipathy', 'bile', 'biliousness', 'bitterness', 'contempt', 'embitterment',\n",
        "                        'empoisonment', 'enmity', 'grudge', 'hostility', 'rancor', 'envy', 'jaundice', 'jealousy', 'pique', 'resentment','malevolence', 'malice', 'spite', 'vengefulness', 'venom', 'vindictiveness', 'virulence', 'vitriol',\n",
        "                        'belligerence', 'contentiousness', 'contrariness', 'crankiness', 'disputatiousness', 'hot-headedness', 'irascibility', 'irascibleness', 'irritability', 'orneriness', 'pugnaciousness', 'pugnacity', 'quarrelsomeness',\n",
        "                        'querulousness', 'blowup', 'flare', 'flare-up', 'outburst', 'chafe', 'temper','air rage', 'road rage', 'heat', 'negative'])\n",
        "\n",
        "# I'll be using for loop and run all the words of negative_words in the tweets that df contains and create a list for further analysis\n",
        "negative_tweets = []\n",
        "for tweets in df.tweet:\n",
        "  for y in negative_words:\n",
        "    if y in tweets:\n",
        "      negative_tweets.append(tweets)\n",
        "\n",
        "len(negative_tweets)\n",
        "\n",
        "# Converting negative_tweets list into pandas dataframe and deleting all the duplicates\n",
        "negative_tweets = pd.DataFrame(negative_tweets, columns = ['negative_tweets']).drop_duplicates()\n",
        "print(negative_tweets)\n",
        "print('The total number of negative tweets:', len(negative_tweets))"
      ],
      "metadata": {
        "id": "dG0vlDntBlt-",
        "colab": {
          "base_uri": "https://localhost:8080/"
        },
        "outputId": "743e914d-9f03-422d-b8ac-c47f353bf0fc"
      },
      "execution_count": 15,
      "outputs": [
        {
          "output_type": "stream",
          "name": "stdout",
          "text": [
            "                                        negative_tweets\n",
            "0     #studiolife #aislife #requires #passion #dedic...\n",
            "1     something inside me dies ð¦ð¿â¨  eyes nes...\n",
            "2     i'll stand behind this #guncontrolplease   #se...\n",
            "3     never been this down on myself in my entire li...\n",
            "5     can #lighttherapy help with #sad or #depressio...\n",
            "...                                                 ...\n",
            "4609  @user yay! 3 more chances to talk about me and...\n",
            "4610  spread love not hateâ¤ï¸ðððð #pr...\n",
            "4611     @user @user are the most racist pay ever!!!!! \n",
            "4612  por do sol ó¾â¤ï¸#instagood #beautiful   #...\n",
            "4613  my   song \"so glad\" free download!  #shoegaze ...\n",
            "\n",
            "[3343 rows x 1 columns]\n",
            "The total number of negative tweets: 3343\n"
          ]
        }
      ]
    },
    {
      "cell_type": "code",
      "source": [
        "print('The total number of positive tweets:', len(positive_tweets))\n",
        "print('The total number of negative tweets:', len(negative_tweets))\n",
        "print('Remaining number of tweets:', len(df)-(len(positive_tweets)+len(negative_tweets)))\n",
        "# So the remaining number of tweets that cannot be bifurcated under positive or negative tweets are 7269"
      ],
      "metadata": {
        "id": "B5f4L06JrtcD",
        "colab": {
          "base_uri": "https://localhost:8080/"
        },
        "outputId": "a9198919-e255-4464-fdb3-6cf0004f6dda"
      },
      "execution_count": 16,
      "outputs": [
        {
          "output_type": "stream",
          "name": "stdout",
          "text": [
            "The total number of positive tweets: 6585\n",
            "The total number of negative tweets: 3343\n",
            "Remaining number of tweets: 7269\n"
          ]
        }
      ]
    },
    {
      "cell_type": "code",
      "source": [
        "# Percentage of tweets that are positive\n",
        "print('Percentage of tweets that are positive:', (len(positive_tweets)/len(df))*100, '%')"
      ],
      "metadata": {
        "id": "-AROYgUA2N69",
        "colab": {
          "base_uri": "https://localhost:8080/"
        },
        "outputId": "a8ac0bae-155b-4614-974e-5b0d836fdd03"
      },
      "execution_count": 17,
      "outputs": [
        {
          "output_type": "stream",
          "name": "stdout",
          "text": [
            "Percentage of tweets that are positive: 38.29156248182823 %\n"
          ]
        }
      ]
    },
    {
      "cell_type": "code",
      "source": [
        "# Percentage of tweets that are negative\n",
        "print('Percentage of tweets that are negative:', (len(negative_tweets)/len(df))*100, '%')"
      ],
      "metadata": {
        "id": "o4wnRMRA3NJ2",
        "colab": {
          "base_uri": "https://localhost:8080/"
        },
        "outputId": "809af5ce-44ec-46e9-dae0-8d7676fec374"
      },
      "execution_count": 18,
      "outputs": [
        {
          "output_type": "stream",
          "name": "stdout",
          "text": [
            "Percentage of tweets that are negative: 19.439437111124032 %\n"
          ]
        }
      ]
    },
    {
      "cell_type": "code",
      "source": [
        "# Percentage of tweets that cannot be bifurcated under positive or negative tweets\n",
        "((len(df)-(len(positive_tweets)+len(negative_tweets)))/len(df))*100"
      ],
      "metadata": {
        "id": "Q_q-bgQu3X34",
        "colab": {
          "base_uri": "https://localhost:8080/"
        },
        "outputId": "1b1ccc71-be7a-4049-ffe3-66ebc2514209"
      },
      "execution_count": 19,
      "outputs": [
        {
          "output_type": "execute_result",
          "data": {
            "text/plain": [
              "42.26900040704774"
            ]
          },
          "metadata": {},
          "execution_count": 19
        }
      ]
    },
    {
      "cell_type": "code",
      "source": [
        "x = [len(positive_tweets), len(negative_tweets), (len(df)-(len(positive_tweets)+len(negative_tweets)))]"
      ],
      "metadata": {
        "id": "epW5GMkW3mox"
      },
      "execution_count": 20,
      "outputs": []
    },
    {
      "cell_type": "code",
      "source": [
        "plt.figure(figsize = (7,7));\n",
        "plt.title('Twitter sentiment division', fontsize = 'xx-large', fontweight = 'bold');\n",
        "plt.pie(x, startangle= 90, labels = ['positive Tweets', 'Negative Tweets', 'Other Tweets']);"
      ],
      "metadata": {
        "id": "ol3kXo-K8aZl",
        "colab": {
          "base_uri": "https://localhost:8080/",
          "height": 430
        },
        "outputId": "94d5a819-d5a4-40c6-bd8f-257605652a39"
      },
      "execution_count": 21,
      "outputs": [
        {
          "output_type": "display_data",
          "data": {
            "text/plain": [
              "<Figure size 504x504 with 1 Axes>"
            ],
            "image/png": "[encoded data removed]"
          },
          "metadata": {}
        }
      ]
    },
    {
      "cell_type": "code",
      "source": [
        ""
      ],
      "metadata": {
        "id": "OoWsyuMZTIcV"
      },
      "execution_count": 21,
      "outputs": []
    }
  ]
}